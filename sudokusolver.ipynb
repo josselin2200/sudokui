{
 "cells": [
  {
   "cell_type": "markdown",
   "source": [
    "# Soduku Solver"
   ],
   "metadata": {
    "collapsed": false,
    "pycharm": {
     "name": "#%% md\n"
    }
   }
  },
  {
   "cell_type": "code",
   "execution_count": 2,
   "outputs": [
    {
     "name": "stderr",
     "output_type": "stream",
     "text": [
      "2023-02-07 21:38:36.863471: I tensorflow/core/platform/cpu_feature_guard.cc:193] This TensorFlow binary is optimized with oneAPI Deep Neural Network Library (oneDNN) to use the following CPU instructions in performance-critical operations:  AVX2 FMA\n",
      "To enable them in other operations, rebuild TensorFlow with the appropriate compiler flags.\n"
     ]
    }
   ],
   "source": [
    "import pandas as pd\n",
    "import numpy as np\n",
    "from sklearn.model_selection import train_test_split\n",
    "import tensorflow as tf"
   ],
   "metadata": {
    "collapsed": false,
    "pycharm": {
     "name": "#%%\n"
    }
   }
  },
  {
   "cell_type": "markdown",
   "source": [
    "## Data Preprocessing"
   ],
   "metadata": {
    "collapsed": false,
    "pycharm": {
     "name": "#%% md\n"
    }
   }
  },
  {
   "cell_type": "markdown",
   "source": [
    "### Data Preprocessing - Part 1"
   ],
   "metadata": {
    "collapsed": false,
    "pycharm": {
     "name": "#%% md\n"
    }
   }
  },
  {
   "cell_type": "code",
   "execution_count": 3,
   "metadata": {
    "collapsed": true,
    "pycharm": {
     "name": "#%%\n"
    }
   },
   "outputs": [
    {
     "data": {
      "text/plain": "                                             quizzes  \\\n0  0043002090050090010700600430060020871900074000...   \n1  0401000501070039605200080000000000170009068008...   \n2  6001203840084590720000060050002640300700800069...   \n3  4972000001004000050000160986203000403009000000...   \n4  0059103080094030600275001000300002010008200070...   \n\n                                           solutions  \n0  8643712593258497619712658434361925871986574322...  \n1  3461792581875239645296483719658324174729168358...  \n2  6951273841384596727248369158512647392739815469...  \n3  4972583161864397252537164986293815473759641828...  \n4  4659123781894735623275681497386452919548216372...  ",
      "text/html": "<div>\n<style scoped>\n    .dataframe tbody tr th:only-of-type {\n        vertical-align: middle;\n    }\n\n    .dataframe tbody tr th {\n        vertical-align: top;\n    }\n\n    .dataframe thead th {\n        text-align: right;\n    }\n</style>\n<table border=\"1\" class=\"dataframe\">\n  <thead>\n    <tr style=\"text-align: right;\">\n      <th></th>\n      <th>quizzes</th>\n      <th>solutions</th>\n    </tr>\n  </thead>\n  <tbody>\n    <tr>\n      <th>0</th>\n      <td>0043002090050090010700600430060020871900074000...</td>\n      <td>8643712593258497619712658434361925871986574322...</td>\n    </tr>\n    <tr>\n      <th>1</th>\n      <td>0401000501070039605200080000000000170009068008...</td>\n      <td>3461792581875239645296483719658324174729168358...</td>\n    </tr>\n    <tr>\n      <th>2</th>\n      <td>6001203840084590720000060050002640300700800069...</td>\n      <td>6951273841384596727248369158512647392739815469...</td>\n    </tr>\n    <tr>\n      <th>3</th>\n      <td>4972000001004000050000160986203000403009000000...</td>\n      <td>4972583161864397252537164986293815473759641828...</td>\n    </tr>\n    <tr>\n      <th>4</th>\n      <td>0059103080094030600275001000300002010008200070...</td>\n      <td>4659123781894735623275681497386452919548216372...</td>\n    </tr>\n  </tbody>\n</table>\n</div>"
     },
     "execution_count": 3,
     "metadata": {},
     "output_type": "execute_result"
    }
   ],
   "source": [
    "data=pd.read_csv('sudoku.csv')[:5]\n",
    "data"
   ]
  },
  {
   "cell_type": "code",
   "execution_count": 4,
   "outputs": [
    {
     "name": "stdout",
     "output_type": "stream",
     "text": [
      "0    0043002090050090010700600430060020871900074000...\n",
      "1    0401000501070039605200080000000000170009068008...\n",
      "2    6001203840084590720000060050002640300700800069...\n",
      "3    4972000001004000050000160986203000403009000000...\n",
      "4    0059103080094030600275001000300002010008200070...\n",
      "Name: quizzes, dtype: object\n",
      "\n",
      "0    8643712593258497619712658434361925871986574322...\n",
      "1    3461792581875239645296483719658324174729168358...\n",
      "2    6951273841384596727248369158512647392739815469...\n",
      "3    4972583161864397252537164986293815473759641828...\n",
      "4    4659123781894735623275681497386452919548216372...\n",
      "Name: solutions, dtype: object\n"
     ]
    }
   ],
   "source": [
    "x=data['quizzes']\n",
    "y=data['solutions']\n",
    "\n",
    "print(x)\n",
    "print()\n",
    "print(y)"
   ],
   "metadata": {
    "collapsed": false,
    "pycharm": {
     "name": "#%%\n"
    }
   }
  },
  {
   "cell_type": "code",
   "execution_count": 5,
   "outputs": [
    {
     "name": "stdout",
     "output_type": "stream",
     "text": [
      "[[[[-0.5       ]\n",
      "   [-0.5       ]\n",
      "   [-0.05555556]\n",
      "   [-0.16666667]\n",
      "   [-0.5       ]\n",
      "   [-0.5       ]\n",
      "   [-0.27777778]\n",
      "   [-0.5       ]\n",
      "   [ 0.5       ]]\n",
      "\n",
      "  [[-0.5       ]\n",
      "   [-0.5       ]\n",
      "   [ 0.05555556]\n",
      "   [-0.5       ]\n",
      "   [-0.5       ]\n",
      "   [ 0.5       ]\n",
      "   [-0.5       ]\n",
      "   [-0.5       ]\n",
      "   [-0.38888889]]\n",
      "\n",
      "  [[-0.5       ]\n",
      "   [ 0.27777778]\n",
      "   [-0.5       ]\n",
      "   [-0.5       ]\n",
      "   [ 0.16666667]\n",
      "   [-0.5       ]\n",
      "   [-0.5       ]\n",
      "   [-0.05555556]\n",
      "   [-0.16666667]]\n",
      "\n",
      "  [[-0.5       ]\n",
      "   [-0.5       ]\n",
      "   [ 0.16666667]\n",
      "   [-0.5       ]\n",
      "   [-0.5       ]\n",
      "   [-0.27777778]\n",
      "   [-0.5       ]\n",
      "   [ 0.38888889]\n",
      "   [ 0.27777778]]\n",
      "\n",
      "  [[-0.38888889]\n",
      "   [ 0.5       ]\n",
      "   [-0.5       ]\n",
      "   [-0.5       ]\n",
      "   [-0.5       ]\n",
      "   [ 0.27777778]\n",
      "   [-0.05555556]\n",
      "   [-0.5       ]\n",
      "   [-0.5       ]]\n",
      "\n",
      "  [[-0.5       ]\n",
      "   [ 0.05555556]\n",
      "   [-0.5       ]\n",
      "   [-0.5       ]\n",
      "   [ 0.38888889]\n",
      "   [-0.16666667]\n",
      "   [-0.5       ]\n",
      "   [-0.5       ]\n",
      "   [-0.5       ]]\n",
      "\n",
      "  [[ 0.16666667]\n",
      "   [-0.5       ]\n",
      "   [-0.5       ]\n",
      "   [-0.5       ]\n",
      "   [-0.5       ]\n",
      "   [-0.5       ]\n",
      "   [-0.38888889]\n",
      "   [-0.5       ]\n",
      "   [ 0.05555556]]\n",
      "\n",
      "  [[-0.5       ]\n",
      "   [-0.5       ]\n",
      "   [-0.16666667]\n",
      "   [ 0.05555556]\n",
      "   [-0.5       ]\n",
      "   [ 0.38888889]\n",
      "   [ 0.16666667]\n",
      "   [ 0.5       ]\n",
      "   [-0.5       ]]\n",
      "\n",
      "  [[-0.5       ]\n",
      "   [-0.05555556]\n",
      "   [-0.27777778]\n",
      "   [ 0.5       ]\n",
      "   [-0.38888889]\n",
      "   [-0.5       ]\n",
      "   [-0.16666667]\n",
      "   [-0.5       ]\n",
      "   [-0.5       ]]]\n",
      "\n",
      "\n",
      " [[[-0.5       ]\n",
      "   [-0.05555556]\n",
      "   [-0.5       ]\n",
      "   [-0.38888889]\n",
      "   [-0.5       ]\n",
      "   [-0.5       ]\n",
      "   [-0.5       ]\n",
      "   [ 0.05555556]\n",
      "   [-0.5       ]]\n",
      "\n",
      "  [[-0.38888889]\n",
      "   [-0.5       ]\n",
      "   [ 0.27777778]\n",
      "   [-0.5       ]\n",
      "   [-0.5       ]\n",
      "   [-0.16666667]\n",
      "   [ 0.5       ]\n",
      "   [ 0.16666667]\n",
      "   [-0.5       ]]\n",
      "\n",
      "  [[ 0.05555556]\n",
      "   [-0.27777778]\n",
      "   [-0.5       ]\n",
      "   [-0.5       ]\n",
      "   [-0.5       ]\n",
      "   [ 0.38888889]\n",
      "   [-0.5       ]\n",
      "   [-0.5       ]\n",
      "   [-0.5       ]]\n",
      "\n",
      "  [[-0.5       ]\n",
      "   [-0.5       ]\n",
      "   [-0.5       ]\n",
      "   [-0.5       ]\n",
      "   [-0.5       ]\n",
      "   [-0.5       ]\n",
      "   [-0.5       ]\n",
      "   [-0.38888889]\n",
      "   [ 0.27777778]]\n",
      "\n",
      "  [[-0.5       ]\n",
      "   [-0.5       ]\n",
      "   [-0.5       ]\n",
      "   [ 0.5       ]\n",
      "   [-0.5       ]\n",
      "   [ 0.16666667]\n",
      "   [ 0.38888889]\n",
      "   [-0.5       ]\n",
      "   [-0.5       ]]\n",
      "\n",
      "  [[ 0.38888889]\n",
      "   [-0.5       ]\n",
      "   [-0.16666667]\n",
      "   [-0.5       ]\n",
      "   [ 0.05555556]\n",
      "   [-0.5       ]\n",
      "   [ 0.16666667]\n",
      "   [-0.27777778]\n",
      "   [-0.5       ]]\n",
      "\n",
      "  [[-0.5       ]\n",
      "   [ 0.5       ]\n",
      "   [-0.5       ]\n",
      "   [-0.5       ]\n",
      "   [ 0.16666667]\n",
      "   [-0.5       ]\n",
      "   [ 0.05555556]\n",
      "   [-0.05555556]\n",
      "   [-0.16666667]]\n",
      "\n",
      "  [[ 0.16666667]\n",
      "   [-0.5       ]\n",
      "   [-0.5       ]\n",
      "   [-0.5       ]\n",
      "   [ 0.38888889]\n",
      "   [-0.5       ]\n",
      "   [ 0.27777778]\n",
      "   [-0.5       ]\n",
      "   [-0.5       ]]\n",
      "\n",
      "  [[-0.27777778]\n",
      "   [ 0.05555556]\n",
      "   [-0.5       ]\n",
      "   [-0.5       ]\n",
      "   [ 0.5       ]\n",
      "   [ 0.27777778]\n",
      "   [-0.38888889]\n",
      "   [-0.5       ]\n",
      "   [-0.5       ]]]\n",
      "\n",
      "\n",
      " [[[ 0.16666667]\n",
      "   [-0.5       ]\n",
      "   [-0.5       ]\n",
      "   [-0.38888889]\n",
      "   [-0.27777778]\n",
      "   [-0.5       ]\n",
      "   [-0.16666667]\n",
      "   [ 0.38888889]\n",
      "   [-0.05555556]]\n",
      "\n",
      "  [[-0.5       ]\n",
      "   [-0.5       ]\n",
      "   [ 0.38888889]\n",
      "   [-0.05555556]\n",
      "   [ 0.05555556]\n",
      "   [ 0.5       ]\n",
      "   [-0.5       ]\n",
      "   [ 0.27777778]\n",
      "   [-0.27777778]]\n",
      "\n",
      "  [[-0.5       ]\n",
      "   [-0.5       ]\n",
      "   [-0.5       ]\n",
      "   [-0.5       ]\n",
      "   [-0.5       ]\n",
      "   [ 0.16666667]\n",
      "   [-0.5       ]\n",
      "   [-0.5       ]\n",
      "   [ 0.05555556]]\n",
      "\n",
      "  [[-0.5       ]\n",
      "   [-0.5       ]\n",
      "   [-0.5       ]\n",
      "   [-0.27777778]\n",
      "   [ 0.16666667]\n",
      "   [-0.05555556]\n",
      "   [-0.5       ]\n",
      "   [-0.16666667]\n",
      "   [-0.5       ]]\n",
      "\n",
      "  [[-0.5       ]\n",
      "   [ 0.27777778]\n",
      "   [-0.5       ]\n",
      "   [-0.5       ]\n",
      "   [ 0.38888889]\n",
      "   [-0.5       ]\n",
      "   [-0.5       ]\n",
      "   [-0.5       ]\n",
      "   [ 0.16666667]]\n",
      "\n",
      "  [[ 0.5       ]\n",
      "   [-0.05555556]\n",
      "   [-0.5       ]\n",
      "   [-0.5       ]\n",
      "   [-0.5       ]\n",
      "   [-0.16666667]\n",
      "   [-0.5       ]\n",
      "   [-0.5       ]\n",
      "   [-0.5       ]]\n",
      "\n",
      "  [[-0.16666667]\n",
      "   [-0.38888889]\n",
      "   [-0.5       ]\n",
      "   [-0.5       ]\n",
      "   [-0.5       ]\n",
      "   [-0.5       ]\n",
      "   [-0.5       ]\n",
      "   [ 0.05555556]\n",
      "   [-0.5       ]]\n",
      "\n",
      "  [[-0.5       ]\n",
      "   [ 0.38888889]\n",
      "   [ 0.5       ]\n",
      "   [ 0.27777778]\n",
      "   [-0.5       ]\n",
      "   [-0.5       ]\n",
      "   [-0.5       ]\n",
      "   [-0.5       ]\n",
      "   [-0.5       ]]\n",
      "\n",
      "  [[ 0.05555556]\n",
      "   [-0.5       ]\n",
      "   [-0.27777778]\n",
      "   [-0.5       ]\n",
      "   [-0.5       ]\n",
      "   [-0.5       ]\n",
      "   [-0.38888889]\n",
      "   [ 0.5       ]\n",
      "   [-0.5       ]]]\n",
      "\n",
      "\n",
      " [[[-0.05555556]\n",
      "   [ 0.5       ]\n",
      "   [ 0.27777778]\n",
      "   [-0.27777778]\n",
      "   [-0.5       ]\n",
      "   [-0.5       ]\n",
      "   [-0.5       ]\n",
      "   [-0.5       ]\n",
      "   [-0.5       ]]\n",
      "\n",
      "  [[-0.38888889]\n",
      "   [-0.5       ]\n",
      "   [-0.5       ]\n",
      "   [-0.05555556]\n",
      "   [-0.5       ]\n",
      "   [-0.5       ]\n",
      "   [-0.5       ]\n",
      "   [-0.5       ]\n",
      "   [ 0.05555556]]\n",
      "\n",
      "  [[-0.5       ]\n",
      "   [-0.5       ]\n",
      "   [-0.5       ]\n",
      "   [-0.5       ]\n",
      "   [-0.38888889]\n",
      "   [ 0.16666667]\n",
      "   [-0.5       ]\n",
      "   [ 0.5       ]\n",
      "   [ 0.38888889]]\n",
      "\n",
      "  [[ 0.16666667]\n",
      "   [-0.27777778]\n",
      "   [-0.5       ]\n",
      "   [-0.16666667]\n",
      "   [-0.5       ]\n",
      "   [-0.5       ]\n",
      "   [-0.5       ]\n",
      "   [-0.05555556]\n",
      "   [-0.5       ]]\n",
      "\n",
      "  [[-0.16666667]\n",
      "   [-0.5       ]\n",
      "   [-0.5       ]\n",
      "   [ 0.5       ]\n",
      "   [-0.5       ]\n",
      "   [-0.5       ]\n",
      "   [-0.5       ]\n",
      "   [-0.5       ]\n",
      "   [-0.5       ]]\n",
      "\n",
      "  [[-0.5       ]\n",
      "   [-0.5       ]\n",
      "   [-0.38888889]\n",
      "   [-0.5       ]\n",
      "   [ 0.27777778]\n",
      "   [-0.27777778]\n",
      "   [ 0.16666667]\n",
      "   [-0.5       ]\n",
      "   [-0.5       ]]\n",
      "\n",
      "  [[-0.5       ]\n",
      "   [-0.5       ]\n",
      "   [-0.27777778]\n",
      "   [-0.5       ]\n",
      "   [-0.5       ]\n",
      "   [ 0.05555556]\n",
      "   [ 0.38888889]\n",
      "   [ 0.27777778]\n",
      "   [-0.5       ]]\n",
      "\n",
      "  [[-0.5       ]\n",
      "   [-0.5       ]\n",
      "   [-0.5       ]\n",
      "   [ 0.16666667]\n",
      "   [-0.5       ]\n",
      "   [-0.5       ]\n",
      "   [-0.5       ]\n",
      "   [-0.5       ]\n",
      "   [-0.05555556]]\n",
      "\n",
      "  [[ 0.05555556]\n",
      "   [-0.16666667]\n",
      "   [-0.5       ]\n",
      "   [-0.5       ]\n",
      "   [ 0.5       ]\n",
      "   [ 0.27777778]\n",
      "   [-0.5       ]\n",
      "   [ 0.16666667]\n",
      "   [-0.38888889]]]\n",
      "\n",
      "\n",
      " [[[-0.5       ]\n",
      "   [-0.5       ]\n",
      "   [ 0.05555556]\n",
      "   [ 0.5       ]\n",
      "   [-0.38888889]\n",
      "   [-0.5       ]\n",
      "   [-0.16666667]\n",
      "   [-0.5       ]\n",
      "   [ 0.38888889]]\n",
      "\n",
      "  [[-0.5       ]\n",
      "   [-0.5       ]\n",
      "   [ 0.5       ]\n",
      "   [-0.05555556]\n",
      "   [-0.5       ]\n",
      "   [-0.16666667]\n",
      "   [-0.5       ]\n",
      "   [ 0.16666667]\n",
      "   [-0.5       ]]\n",
      "\n",
      "  [[-0.5       ]\n",
      "   [-0.27777778]\n",
      "   [ 0.27777778]\n",
      "   [ 0.05555556]\n",
      "   [-0.5       ]\n",
      "   [-0.5       ]\n",
      "   [-0.38888889]\n",
      "   [-0.5       ]\n",
      "   [-0.5       ]]\n",
      "\n",
      "  [[-0.5       ]\n",
      "   [-0.16666667]\n",
      "   [-0.5       ]\n",
      "   [-0.5       ]\n",
      "   [-0.5       ]\n",
      "   [-0.5       ]\n",
      "   [-0.27777778]\n",
      "   [-0.5       ]\n",
      "   [-0.38888889]]\n",
      "\n",
      "  [[-0.5       ]\n",
      "   [-0.5       ]\n",
      "   [-0.5       ]\n",
      "   [ 0.38888889]\n",
      "   [-0.27777778]\n",
      "   [-0.5       ]\n",
      "   [-0.5       ]\n",
      "   [-0.5       ]\n",
      "   [ 0.27777778]]\n",
      "\n",
      "  [[-0.5       ]\n",
      "   [-0.5       ]\n",
      "   [ 0.16666667]\n",
      "   [-0.5       ]\n",
      "   [-0.5       ]\n",
      "   [ 0.27777778]\n",
      "   [-0.5       ]\n",
      "   [-0.5       ]\n",
      "   [-0.05555556]]\n",
      "\n",
      "  [[-0.5       ]\n",
      "   [-0.5       ]\n",
      "   [-0.5       ]\n",
      "   [-0.5       ]\n",
      "   [ 0.38888889]\n",
      "   [-0.5       ]\n",
      "   [-0.5       ]\n",
      "   [-0.5       ]\n",
      "   [-0.5       ]]\n",
      "\n",
      "  [[ 0.16666667]\n",
      "   [-0.05555556]\n",
      "   [-0.5       ]\n",
      "   [-0.38888889]\n",
      "   [ 0.05555556]\n",
      "   [-0.5       ]\n",
      "   [ 0.27777778]\n",
      "   [-0.5       ]\n",
      "   [-0.5       ]]\n",
      "\n",
      "  [[ 0.38888889]\n",
      "   [ 0.5       ]\n",
      "   [-0.5       ]\n",
      "   [-0.5       ]\n",
      "   [-0.5       ]\n",
      "   [-0.5       ]\n",
      "   [-0.05555556]\n",
      "   [-0.27777778]\n",
      "   [-0.5       ]]]]\n",
      "[[3]\n",
      " [5]\n",
      " [4]\n",
      " [8]\n",
      " [0]\n",
      " [1]\n",
      " [2]\n",
      " [6]\n",
      " [7]\n",
      " [0]\n",
      " [7]\n",
      " [8]\n",
      " [3]\n",
      " [6]\n",
      " [2]\n",
      " [4]\n",
      " [5]\n",
      " [1]\n",
      " [2]\n",
      " [1]\n",
      " [6]\n",
      " [4]\n",
      " [5]\n",
      " [7]\n",
      " [0]\n",
      " [3]\n",
      " [8]\n",
      " [6]\n",
      " [2]\n",
      " [7]\n",
      " [5]\n",
      " [3]\n",
      " [4]\n",
      " [1]\n",
      " [8]\n",
      " [0]\n",
      " [8]\n",
      " [4]\n",
      " [3]\n",
      " [7]\n",
      " [1]\n",
      " [0]\n",
      " [5]\n",
      " [2]\n",
      " [6]\n",
      " [1]\n",
      " [0]\n",
      " [5]\n",
      " [2]\n",
      " [8]\n",
      " [6]\n",
      " [7]\n",
      " [4]\n",
      " [3]\n",
      " [4]\n",
      " [6]\n",
      " [2]\n",
      " [1]\n",
      " [7]\n",
      " [3]\n",
      " [8]\n",
      " [0]\n",
      " [5]\n",
      " [5]\n",
      " [3]\n",
      " [1]\n",
      " [0]\n",
      " [4]\n",
      " [8]\n",
      " [6]\n",
      " [7]\n",
      " [2]\n",
      " [7]\n",
      " [8]\n",
      " [0]\n",
      " [6]\n",
      " [2]\n",
      " [5]\n",
      " [3]\n",
      " [1]\n",
      " [4]]\n"
     ]
    }
   ],
   "source": [
    "X=[]\n",
    "Y=[]\n",
    "for i in x:\n",
    "    x=np.array([int(j) for j in i]).reshape((9,9,1))\n",
    "    X.append(x)\n",
    "\n",
    "#centrer réduire\n",
    "X=np.array(X)\n",
    "X=X/9\n",
    "X-=.5\n",
    "\n",
    "for i in y:\n",
    "        y = np.array([int(j) for j in i]).reshape((81,1)) - 1\n",
    "        Y.append(y)\n",
    "\n",
    "Y= np.array(Y)\n",
    "\n",
    "print(X)\n",
    "print(y)\n"
   ],
   "metadata": {
    "collapsed": false,
    "pycharm": {
     "name": "#%%\n"
    }
   }
  },
  {
   "cell_type": "markdown",
   "source": [
    "### Data Preprocessing - Part 2"
   ],
   "metadata": {
    "collapsed": false,
    "pycharm": {
     "name": "#%% md\n"
    }
   }
  },
  {
   "cell_type": "code",
   "execution_count": 6,
   "outputs": [],
   "source": [
    "def data_prepocessing():\n",
    "    data=pd.read_csv('sudoku.csv')\n",
    "\n",
    "    x=data['quizzes']\n",
    "    y=data['solutions']\n",
    "    X=[]\n",
    "    Y=[]\n",
    "\n",
    "    for i in x:\n",
    "        x=np.array([int(j) for j in i]).reshape((9,9,1))\n",
    "        X.append(x)\n",
    "    X=np.array(X)\n",
    "    X=X/9\n",
    "    X-=.5\n",
    "\n",
    "    for i in y:\n",
    "            y = np.array([int(j) for j in i]).reshape((81,1)) - 1\n",
    "            Y.append(y)\n",
    "    Y= np.array(Y)\n",
    "\n",
    "    del(x)\n",
    "    del(y)\n",
    "\n",
    "    x_train, x_test, y_train, y_test = train_test_split(X, Y, test_size=0.2, random_state=42)\n",
    "\n",
    "    return x_train, x_test, y_train, y_test\n"
   ],
   "metadata": {
    "collapsed": false,
    "pycharm": {
     "name": "#%%\n"
    }
   }
  },
  {
   "cell_type": "markdown",
   "source": [
    "### CNN"
   ],
   "metadata": {
    "collapsed": false,
    "pycharm": {
     "name": "#%% md\n"
    }
   }
  },
  {
   "cell_type": "code",
   "execution_count": 7,
   "outputs": [],
   "source": [
    "import keras\n",
    "from keras.layers import Activation\n",
    "from keras.layers import Conv2D, BatchNormalization, Dense, Flatten, Reshape\n",
    "\n",
    "def get_model():\n",
    "\n",
    "    model = keras.models.Sequential()\n",
    "\n",
    "    model.add(Conv2D(64, kernel_size=(3,3), activation='relu', padding='same', input_shape=(9,9,1)))\n",
    "    model.add(BatchNormalization())\n",
    "    model.add(Conv2D(64, kernel_size=(3,3), activation='relu', padding='same'))\n",
    "    model.add(BatchNormalization())\n",
    "    model.add(Conv2D(128, kernel_size=(1,1), activation='relu', padding='same'))\n",
    "\n",
    "    model.add(Flatten())\n",
    "    model.add(Dense(81*9))\n",
    "    model.add(Reshape((-1, 9)))\n",
    "    model.add(Activation('softmax'))\n",
    "\n",
    "    return model"
   ],
   "metadata": {
    "collapsed": false,
    "pycharm": {
     "name": "#%%\n"
    }
   }
  },
  {
   "cell_type": "markdown",
   "source": [
    "# Solving"
   ],
   "metadata": {
    "collapsed": false,
    "pycharm": {
     "name": "#%% md\n"
    }
   }
  },
  {
   "cell_type": "code",
   "execution_count": 8,
   "outputs": [],
   "source": [
    "import copy\n"
   ],
   "metadata": {
    "collapsed": false,
    "pycharm": {
     "name": "#%%\n"
    }
   }
  },
  {
   "cell_type": "code",
   "execution_count": 9,
   "outputs": [
    {
     "name": "stderr",
     "output_type": "stream",
     "text": [
      "\n",
      "KeyboardInterrupt\n",
      "\n"
     ]
    }
   ],
   "source": [
    "#data prepocessing\n",
    "x_train, x_test, y_train, y_test =data_prepocessing()\n",
    "\n",
    "#fiting data\n",
    "model = get_model()\n",
    "\n",
    "adam = keras.optimizers.Adam(lr=.001)\n",
    "model.compile(loss='sparse_categorical_crossentropy', optimizer=adam)\n",
    "\n",
    "model.fit(x_train, y_train, batch_size=32, epochs=2)\n",
    "\n"
   ],
   "metadata": {
    "collapsed": false,
    "pycharm": {
     "name": "#%%\n"
    }
   }
  },
  {
   "cell_type": "code",
   "execution_count": null,
   "outputs": [],
   "source": [
    "def denorm(a):\n",
    "\n",
    "    return (a+.5)*9\n",
    "\n",
    "def norm(a):\n",
    "\n",
    "    return (a/9)-.5"
   ],
   "metadata": {
    "collapsed": false,
    "pycharm": {
     "name": "#%%\n"
    }
   }
  },
  {
   "cell_type": "code",
   "execution_count": null,
   "outputs": [],
   "source": [
    "def inference_sudoku(sample):\n",
    "\n",
    "    '''\n",
    "        This function solve the sudoku by filling blank positions one by one.\n",
    "    '''\n",
    "\n",
    "    feat = copy.copy(sample)\n",
    "\n",
    "    while(1):\n",
    "\n",
    "        out = model.predict(feat.reshape((1,9,9,1)))\n",
    "        out = out.squeeze()\n",
    "\n",
    "        pred = np.argmax(out, axis=1).reshape((9,9))+1\n",
    "        prob = np.around(np.max(out, axis=1).reshape((9,9)), 2)\n",
    "\n",
    "        feat = denorm(feat).reshape((9,9))\n",
    "        mask = (feat==0)\n",
    "\n",
    "        if(mask.sum()==0):\n",
    "            break\n",
    "\n",
    "        prob_new = prob*mask\n",
    "\n",
    "        ind = np.argmax(prob_new)\n",
    "        x, y = (ind//9), (ind%9)\n",
    "\n",
    "        val = pred[x][y]\n",
    "        feat[x][y] = val\n",
    "        feat = norm(feat)\n",
    "\n",
    "    return pred"
   ],
   "metadata": {
    "collapsed": false,
    "pycharm": {
     "name": "#%%\n"
    }
   }
  },
  {
   "cell_type": "code",
   "execution_count": null,
   "outputs": [],
   "source": [
    "def test_accuracy(feats, labels):\n",
    "\n",
    "    correct = 0\n",
    "\n",
    "    for i,feat in enumerate(feats):\n",
    "\n",
    "        pred = inference_sudoku(feat)\n",
    "\n",
    "        true = labels[i].reshape((9,9))+1\n",
    "\n",
    "        if(abs(true - pred).sum()==0):\n",
    "            correct += 1\n",
    "\n",
    "    print(correct/feats.shape[0])"
   ],
   "metadata": {
    "collapsed": false,
    "pycharm": {
     "name": "#%%\n"
    }
   }
  },
  {
   "cell_type": "code",
   "execution_count": null,
   "outputs": [],
   "source": [
    "test_accuracy(x_test[:100], y_test[:100])"
   ],
   "metadata": {
    "collapsed": false,
    "pycharm": {
     "name": "#%%\n"
    }
   }
  },
  {
   "cell_type": "code",
   "execution_count": null,
   "outputs": [],
   "source": [
    "def solve_sudoku(game):\n",
    "\n",
    "    game = game.replace('\\n', '')\n",
    "    game = game.replace(' ', '')\n",
    "    game = np.array([int(j) for j in game]).reshape((9,9,1))\n",
    "    game = norm(game)\n",
    "    game = inference_sudoku(game)\n",
    "    return game"
   ],
   "metadata": {
    "collapsed": false,
    "pycharm": {
     "name": "#%%\n"
    }
   }
  },
  {
   "cell_type": "code",
   "execution_count": null,
   "outputs": [],
   "source": [
    "game = '''\n",
    "          0 8 0 0 3 2 0 0 1\n",
    "          7 0 3 0 8 0 0 0 2\n",
    "          5 0 0 0 0 7 0 3 0\n",
    "          0 5 0 0 0 1 9 7 0\n",
    "          6 0 0 7 0 9 0 0 8\n",
    "          0 4 7 2 0 0 0 5 0\n",
    "          0 2 0 6 0 0 0 0 9\n",
    "          8 0 0 0 9 0 3 0 5\n",
    "          3 0 0 8 2 0 0 1 0\n",
    "      '''\n",
    "\n",
    "game = solve_sudoku(game)\n",
    "\n",
    "print('solved puzzle:\\n')\n",
    "print(game)"
   ],
   "metadata": {
    "collapsed": false,
    "pycharm": {
     "name": "#%%\n"
    }
   }
  },
  {
   "cell_type": "code",
   "execution_count": null,
   "outputs": [],
   "source": [
    "np.sum(game, axis=1)"
   ],
   "metadata": {
    "collapsed": false,
    "pycharm": {
     "name": "#%%\n"
    }
   }
  }
 ],
 "metadata": {
  "kernelspec": {
   "display_name": "Python 3",
   "language": "python",
   "name": "python3"
  },
  "language_info": {
   "codemirror_mode": {
    "name": "ipython",
    "version": 2
   },
   "file_extension": ".py",
   "mimetype": "text/x-python",
   "name": "python",
   "nbconvert_exporter": "python",
   "pygments_lexer": "ipython2",
   "version": "2.7.6"
  }
 },
 "nbformat": 4,
 "nbformat_minor": 0
}